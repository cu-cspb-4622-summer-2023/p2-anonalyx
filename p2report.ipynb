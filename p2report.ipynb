{
 "cells": [
  {
   "cell_type": "code",
   "execution_count": 1,
   "metadata": {
    "collapsed": true
   },
   "outputs": [],
   "source": [
    "import pandas as pd\n",
    "import numpy as np\n",
    "import sklearn"
   ]
  },
  {
   "cell_type": "markdown",
   "source": [
    "# Project Topic\n",
    "Explanation:\n",
    "Problem type:\n",
    "Motivation:"
   ],
   "metadata": {
    "collapsed": false
   }
  },
  {
   "cell_type": "markdown",
   "source": [
    "# Data\n",
    "Source: Kaggle.com \"Bag of Words Meets Bags of Popcorn\" https://www.kaggle.com/competitions/word2vec-nlp-tutorial/data\n",
    "Description: The Bag of Words Meets Bags of Popcorn Dataset is the dataset used in an NLP tutorial on Kaggle.com. I have not previously viewed or completed this tutorial, and do not intend to use the techniques and methods described in the tutorial in the completion of my project. However, I think this dataset is unique and intriguing, and a good fit for the Unsupervised Machine Learning methods that we have learned in the second half of 4622."
   ],
   "metadata": {
    "collapsed": false
   }
  },
  {
   "cell_type": "code",
   "execution_count": 3,
   "outputs": [
    {
     "data": {
      "text/plain": "       Country Density\\n(P/Km2) Abbreviation Agricultural Land( %)  \\\n0  Afghanistan               60           AF                58.10%   \n1      Albania              105           AL                43.10%   \n2      Algeria               18           DZ                17.40%   \n3      Andorra              164           AD                40.00%   \n4       Angola               26           AO                47.50%   \n\n  Land Area(Km2) Armed Forces size  Birth Rate  Calling Code  \\\n0        652,230           323,000       32.49          93.0   \n1         28,748             9,000       11.78         355.0   \n2      2,381,741           317,000       24.28         213.0   \n3            468               NaN        7.20         376.0   \n4      1,246,700           117,000       40.73         244.0   \n\n  Capital/Major City Co2-Emissions  ... Out of pocket health expenditure  \\\n0              Kabul         8,672  ...                           78.40%   \n1             Tirana         4,536  ...                           56.90%   \n2            Algiers       150,006  ...                           28.10%   \n3   Andorra la Vella           469  ...                           36.40%   \n4             Luanda        34,693  ...                           33.40%   \n\n  Physicians per thousand  Population  \\\n0                    0.28  38,041,754   \n1                    1.20   2,854,191   \n2                    1.72  43,053,054   \n3                    3.33      77,142   \n4                    0.21  31,825,295   \n\n   Population: Labor force participation (%) Tax revenue (%) Total tax rate  \\\n0                                     48.90%           9.30%         71.40%   \n1                                     55.70%          18.60%         36.60%   \n2                                     41.20%          37.20%         66.10%   \n3                                        NaN             NaN            NaN   \n4                                     77.50%           9.20%         49.10%   \n\n  Unemployment rate Urban_population   Latitude  Longitude  \n0            11.12%        9,797,273  33.939110  67.709953  \n1            12.33%        1,747,593  41.153332  20.168331  \n2            11.70%       31,510,100  28.033886   1.659626  \n3               NaN           67,873  42.506285   1.521801  \n4             6.89%       21,061,025 -11.202692  17.873887  \n\n[5 rows x 35 columns]",
      "text/html": "<div>\n<style scoped>\n    .dataframe tbody tr th:only-of-type {\n        vertical-align: middle;\n    }\n\n    .dataframe tbody tr th {\n        vertical-align: top;\n    }\n\n    .dataframe thead th {\n        text-align: right;\n    }\n</style>\n<table border=\"1\" class=\"dataframe\">\n  <thead>\n    <tr style=\"text-align: right;\">\n      <th></th>\n      <th>Country</th>\n      <th>Density\\n(P/Km2)</th>\n      <th>Abbreviation</th>\n      <th>Agricultural Land( %)</th>\n      <th>Land Area(Km2)</th>\n      <th>Armed Forces size</th>\n      <th>Birth Rate</th>\n      <th>Calling Code</th>\n      <th>Capital/Major City</th>\n      <th>Co2-Emissions</th>\n      <th>...</th>\n      <th>Out of pocket health expenditure</th>\n      <th>Physicians per thousand</th>\n      <th>Population</th>\n      <th>Population: Labor force participation (%)</th>\n      <th>Tax revenue (%)</th>\n      <th>Total tax rate</th>\n      <th>Unemployment rate</th>\n      <th>Urban_population</th>\n      <th>Latitude</th>\n      <th>Longitude</th>\n    </tr>\n  </thead>\n  <tbody>\n    <tr>\n      <th>0</th>\n      <td>Afghanistan</td>\n      <td>60</td>\n      <td>AF</td>\n      <td>58.10%</td>\n      <td>652,230</td>\n      <td>323,000</td>\n      <td>32.49</td>\n      <td>93.0</td>\n      <td>Kabul</td>\n      <td>8,672</td>\n      <td>...</td>\n      <td>78.40%</td>\n      <td>0.28</td>\n      <td>38,041,754</td>\n      <td>48.90%</td>\n      <td>9.30%</td>\n      <td>71.40%</td>\n      <td>11.12%</td>\n      <td>9,797,273</td>\n      <td>33.939110</td>\n      <td>67.709953</td>\n    </tr>\n    <tr>\n      <th>1</th>\n      <td>Albania</td>\n      <td>105</td>\n      <td>AL</td>\n      <td>43.10%</td>\n      <td>28,748</td>\n      <td>9,000</td>\n      <td>11.78</td>\n      <td>355.0</td>\n      <td>Tirana</td>\n      <td>4,536</td>\n      <td>...</td>\n      <td>56.90%</td>\n      <td>1.20</td>\n      <td>2,854,191</td>\n      <td>55.70%</td>\n      <td>18.60%</td>\n      <td>36.60%</td>\n      <td>12.33%</td>\n      <td>1,747,593</td>\n      <td>41.153332</td>\n      <td>20.168331</td>\n    </tr>\n    <tr>\n      <th>2</th>\n      <td>Algeria</td>\n      <td>18</td>\n      <td>DZ</td>\n      <td>17.40%</td>\n      <td>2,381,741</td>\n      <td>317,000</td>\n      <td>24.28</td>\n      <td>213.0</td>\n      <td>Algiers</td>\n      <td>150,006</td>\n      <td>...</td>\n      <td>28.10%</td>\n      <td>1.72</td>\n      <td>43,053,054</td>\n      <td>41.20%</td>\n      <td>37.20%</td>\n      <td>66.10%</td>\n      <td>11.70%</td>\n      <td>31,510,100</td>\n      <td>28.033886</td>\n      <td>1.659626</td>\n    </tr>\n    <tr>\n      <th>3</th>\n      <td>Andorra</td>\n      <td>164</td>\n      <td>AD</td>\n      <td>40.00%</td>\n      <td>468</td>\n      <td>NaN</td>\n      <td>7.20</td>\n      <td>376.0</td>\n      <td>Andorra la Vella</td>\n      <td>469</td>\n      <td>...</td>\n      <td>36.40%</td>\n      <td>3.33</td>\n      <td>77,142</td>\n      <td>NaN</td>\n      <td>NaN</td>\n      <td>NaN</td>\n      <td>NaN</td>\n      <td>67,873</td>\n      <td>42.506285</td>\n      <td>1.521801</td>\n    </tr>\n    <tr>\n      <th>4</th>\n      <td>Angola</td>\n      <td>26</td>\n      <td>AO</td>\n      <td>47.50%</td>\n      <td>1,246,700</td>\n      <td>117,000</td>\n      <td>40.73</td>\n      <td>244.0</td>\n      <td>Luanda</td>\n      <td>34,693</td>\n      <td>...</td>\n      <td>33.40%</td>\n      <td>0.21</td>\n      <td>31,825,295</td>\n      <td>77.50%</td>\n      <td>9.20%</td>\n      <td>49.10%</td>\n      <td>6.89%</td>\n      <td>21,061,025</td>\n      <td>-11.202692</td>\n      <td>17.873887</td>\n    </tr>\n  </tbody>\n</table>\n<p>5 rows × 35 columns</p>\n</div>"
     },
     "execution_count": 3,
     "metadata": {},
     "output_type": "execute_result"
    }
   ],
   "source": [
    "df = pd.read_csv('./data/world-data-2023.csv')\n",
    "df.head()"
   ],
   "metadata": {
    "collapsed": false
   }
  },
  {
   "cell_type": "code",
   "execution_count": 4,
   "outputs": [
    {
     "data": {
      "text/plain": "       Birth Rate  Calling Code  Fertility Rate  Infant mortality  \\\ncount  189.000000    194.000000      188.000000        189.000000   \nmean    20.214974    360.546392        2.698138         21.332804   \nstd      9.945774    323.236419        1.282267         19.548058   \nmin      5.900000      1.000000        0.980000          1.400000   \n25%     11.300000     82.500000        1.705000          6.000000   \n50%     17.950000    255.500000        2.245000         14.000000   \n75%     28.750000    506.750000        3.597500         32.700000   \nmax     46.080000   1876.000000        6.910000         84.500000   \n\n       Life expectancy  Maternal mortality ratio  Physicians per thousand  \\\ncount       187.000000                181.000000               188.000000   \nmean         72.279679                160.392265                 1.839840   \nstd           7.483661                233.502024                 1.684261   \nmin          52.800000                  2.000000                 0.010000   \n25%          67.000000                 13.000000                 0.332500   \n50%          73.200000                 53.000000                 1.460000   \n75%          77.500000                186.000000                 2.935000   \nmax          85.400000               1150.000000                 8.420000   \n\n         Latitude   Longitude  \ncount  194.000000  194.000000  \nmean    19.092351   20.232434  \nstd     23.961779   66.716110  \nmin    -40.900557 -175.198242  \n25%      4.544175   -7.941496  \n50%     17.273849   20.972652  \n75%     40.124603   48.281523  \nmax     64.963051  178.065032  ",
      "text/html": "<div>\n<style scoped>\n    .dataframe tbody tr th:only-of-type {\n        vertical-align: middle;\n    }\n\n    .dataframe tbody tr th {\n        vertical-align: top;\n    }\n\n    .dataframe thead th {\n        text-align: right;\n    }\n</style>\n<table border=\"1\" class=\"dataframe\">\n  <thead>\n    <tr style=\"text-align: right;\">\n      <th></th>\n      <th>Birth Rate</th>\n      <th>Calling Code</th>\n      <th>Fertility Rate</th>\n      <th>Infant mortality</th>\n      <th>Life expectancy</th>\n      <th>Maternal mortality ratio</th>\n      <th>Physicians per thousand</th>\n      <th>Latitude</th>\n      <th>Longitude</th>\n    </tr>\n  </thead>\n  <tbody>\n    <tr>\n      <th>count</th>\n      <td>189.000000</td>\n      <td>194.000000</td>\n      <td>188.000000</td>\n      <td>189.000000</td>\n      <td>187.000000</td>\n      <td>181.000000</td>\n      <td>188.000000</td>\n      <td>194.000000</td>\n      <td>194.000000</td>\n    </tr>\n    <tr>\n      <th>mean</th>\n      <td>20.214974</td>\n      <td>360.546392</td>\n      <td>2.698138</td>\n      <td>21.332804</td>\n      <td>72.279679</td>\n      <td>160.392265</td>\n      <td>1.839840</td>\n      <td>19.092351</td>\n      <td>20.232434</td>\n    </tr>\n    <tr>\n      <th>std</th>\n      <td>9.945774</td>\n      <td>323.236419</td>\n      <td>1.282267</td>\n      <td>19.548058</td>\n      <td>7.483661</td>\n      <td>233.502024</td>\n      <td>1.684261</td>\n      <td>23.961779</td>\n      <td>66.716110</td>\n    </tr>\n    <tr>\n      <th>min</th>\n      <td>5.900000</td>\n      <td>1.000000</td>\n      <td>0.980000</td>\n      <td>1.400000</td>\n      <td>52.800000</td>\n      <td>2.000000</td>\n      <td>0.010000</td>\n      <td>-40.900557</td>\n      <td>-175.198242</td>\n    </tr>\n    <tr>\n      <th>25%</th>\n      <td>11.300000</td>\n      <td>82.500000</td>\n      <td>1.705000</td>\n      <td>6.000000</td>\n      <td>67.000000</td>\n      <td>13.000000</td>\n      <td>0.332500</td>\n      <td>4.544175</td>\n      <td>-7.941496</td>\n    </tr>\n    <tr>\n      <th>50%</th>\n      <td>17.950000</td>\n      <td>255.500000</td>\n      <td>2.245000</td>\n      <td>14.000000</td>\n      <td>73.200000</td>\n      <td>53.000000</td>\n      <td>1.460000</td>\n      <td>17.273849</td>\n      <td>20.972652</td>\n    </tr>\n    <tr>\n      <th>75%</th>\n      <td>28.750000</td>\n      <td>506.750000</td>\n      <td>3.597500</td>\n      <td>32.700000</td>\n      <td>77.500000</td>\n      <td>186.000000</td>\n      <td>2.935000</td>\n      <td>40.124603</td>\n      <td>48.281523</td>\n    </tr>\n    <tr>\n      <th>max</th>\n      <td>46.080000</td>\n      <td>1876.000000</td>\n      <td>6.910000</td>\n      <td>84.500000</td>\n      <td>85.400000</td>\n      <td>1150.000000</td>\n      <td>8.420000</td>\n      <td>64.963051</td>\n      <td>178.065032</td>\n    </tr>\n  </tbody>\n</table>\n</div>"
     },
     "execution_count": 4,
     "metadata": {},
     "output_type": "execute_result"
    }
   ],
   "source": [
    "df.describe()"
   ],
   "metadata": {
    "collapsed": false
   }
  },
  {
   "cell_type": "markdown",
   "source": [
    "# Data Cleaning and EDA\n",
    "Explanation of how and why cleaning is performed\n"
   ],
   "metadata": {
    "collapsed": false
   }
  },
  {
   "cell_type": "markdown",
   "source": [
    "# Tabulated Examples\n"
   ],
   "metadata": {
    "collapsed": false
   }
  },
  {
   "cell_type": "markdown",
   "source": [
    "# Visualizations\n"
   ],
   "metadata": {
    "collapsed": false
   }
  },
  {
   "cell_type": "markdown",
   "source": [
    "# Analysis"
   ],
   "metadata": {
    "collapsed": false
   }
  },
  {
   "cell_type": "markdown",
   "source": [
    "# Conclusions and Discussions"
   ],
   "metadata": {
    "collapsed": false
   }
  },
  {
   "cell_type": "markdown",
   "source": [
    "# Model building/ Model Choice"
   ],
   "metadata": {
    "collapsed": false
   }
  },
  {
   "cell_type": "markdown",
   "source": [
    "# Model Training\n",
    "Training procedure:\n",
    "Hyperparameter Tuning:\n",
    "Train/Test Performance:"
   ],
   "metadata": {
    "collapsed": false
   }
  },
  {
   "cell_type": "markdown",
   "source": [
    "# Results and Analysis\n"
   ],
   "metadata": {
    "collapsed": false
   }
  },
  {
   "cell_type": "markdown",
   "source": [
    "## Summary"
   ],
   "metadata": {
    "collapsed": false
   }
  },
  {
   "cell_type": "markdown",
   "source": [
    "## Visualizations"
   ],
   "metadata": {
    "collapsed": false
   }
  },
  {
   "cell_type": "markdown",
   "source": [
    "## Evaluation Metrics"
   ],
   "metadata": {
    "collapsed": false
   }
  },
  {
   "cell_type": "markdown",
   "source": [
    "## Comparison of Results"
   ],
   "metadata": {
    "collapsed": false
   }
  },
  {
   "cell_type": "markdown",
   "source": [
    "## Discussion and Conclusion on final results"
   ],
   "metadata": {
    "collapsed": false
   }
  },
  {
   "cell_type": "code",
   "execution_count": null,
   "outputs": [],
   "source": [],
   "metadata": {
    "collapsed": false
   }
  }
 ],
 "metadata": {
  "kernelspec": {
   "display_name": "Python 3",
   "language": "python",
   "name": "python3"
  },
  "language_info": {
   "codemirror_mode": {
    "name": "ipython",
    "version": 2
   },
   "file_extension": ".py",
   "mimetype": "text/x-python",
   "name": "python",
   "nbconvert_exporter": "python",
   "pygments_lexer": "ipython2",
   "version": "2.7.6"
  }
 },
 "nbformat": 4,
 "nbformat_minor": 0
}
